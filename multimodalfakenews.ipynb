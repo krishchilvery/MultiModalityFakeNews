{
 "cells": [
  {
   "cell_type": "markdown",
   "id": "da00aedc",
   "metadata": {
    "papermill": {
     "duration": 0.007793,
     "end_time": "2022-12-08T01:34:35.471329",
     "exception": false,
     "start_time": "2022-12-08T01:34:35.463536",
     "status": "completed"
    },
    "tags": []
   },
   "source": [
    "# Cleaning Data\n",
    "\n",
    "Increase the sizes of train val and test sets for better accuracy"
   ]
  },
  {
   "cell_type": "code",
   "execution_count": 1,
   "id": "826b5345",
   "metadata": {
    "execution": {
     "iopub.execute_input": "2022-12-08T01:35:28.999137Z",
     "iopub.status.busy": "2022-12-08T01:35:28.998690Z",
     "iopub.status.idle": "2022-12-08T01:35:29.004309Z",
     "shell.execute_reply": "2022-12-08T01:35:29.003146Z"
    },
    "papermill": {
     "duration": 0.019127,
     "end_time": "2022-12-08T01:35:29.006723",
     "exception": false,
     "start_time": "2022-12-08T01:35:28.987596",
     "status": "completed"
    },
    "tags": []
   },
   "outputs": [],
   "source": [
    "TRAIN_SIZE = 500\n",
    "VAL_SIZE = 50\n",
    "\n",
    "PATH_TO_DATASET = \"./multimodal_data/\""
   ]
  },
  {
   "cell_type": "code",
   "execution_count": 2,
   "id": "cc04b2ff",
   "metadata": {
    "execution": {
     "iopub.execute_input": "2022-12-08T01:35:29.027704Z",
     "iopub.status.busy": "2022-12-08T01:35:29.026753Z",
     "iopub.status.idle": "2022-12-08T01:35:29.031726Z",
     "shell.execute_reply": "2022-12-08T01:35:29.030758Z"
    },
    "papermill": {
     "duration": 0.018275,
     "end_time": "2022-12-08T01:35:29.034380",
     "exception": false,
     "start_time": "2022-12-08T01:35:29.016105",
     "status": "completed"
    },
    "tags": []
   },
   "outputs": [],
   "source": [
    "import numpy as np\n",
    "import pandas as pd"
   ]
  },
  {
   "cell_type": "code",
   "execution_count": 3,
   "id": "0cad4e24",
   "metadata": {
    "execution": {
     "iopub.execute_input": "2022-12-08T01:35:29.056767Z",
     "iopub.status.busy": "2022-12-08T01:35:29.055990Z",
     "iopub.status.idle": "2022-12-08T01:35:38.129317Z",
     "shell.execute_reply": "2022-12-08T01:35:38.128114Z"
    },
    "papermill": {
     "duration": 9.088312,
     "end_time": "2022-12-08T01:35:38.132028",
     "exception": false,
     "start_time": "2022-12-08T01:35:29.043716",
     "status": "completed"
    },
    "tags": []
   },
   "outputs": [
    {
     "name": "stderr",
     "output_type": "stream",
     "text": [
      "[nltk_data] Downloading package wordnet to\n",
      "[nltk_data]     C:\\Users\\saikr\\AppData\\Roaming\\nltk_data...\n",
      "[nltk_data]   Package wordnet is already up-to-date!\n",
      "[nltk_data] Downloading package omw-1.4 to\n",
      "[nltk_data]     C:\\Users\\saikr\\AppData\\Roaming\\nltk_data...\n",
      "[nltk_data]   Package omw-1.4 is already up-to-date!\n",
      "[nltk_data] Downloading package punkt to\n",
      "[nltk_data]     C:\\Users\\saikr\\AppData\\Roaming\\nltk_data...\n",
      "[nltk_data]   Package punkt is already up-to-date!\n",
      "[nltk_data] Downloading package stopwords to\n",
      "[nltk_data]     C:\\Users\\saikr\\AppData\\Roaming\\nltk_data...\n",
      "[nltk_data]   Package stopwords is already up-to-date!\n"
     ]
    }
   ],
   "source": [
    "import nltk\n",
    "from nltk.tokenize import word_tokenize\n",
    "from nltk.corpus import stopwords\n",
    "from nltk.stem import WordNetLemmatizer\n",
    "nltk.download('wordnet')\n",
    "nltk.download('omw-1.4')\n",
    "nltk.download('punkt')\n",
    "nltk.download('stopwords')\n",
    "\n",
    "# reading all training, validation, and testing files for the multimodal data\n",
    "train = pd.read_csv(PATH_TO_DATASET + \"multimodal_train.tsv\", sep = '\\t')[:TRAIN_SIZE]\n",
    "val = pd.read_csv(PATH_TO_DATASET + \"multimodal_validate.tsv\", sep = '\\t')[:VAL_SIZE]"
   ]
  },
  {
   "cell_type": "code",
   "execution_count": 4,
   "id": "8240eb19",
   "metadata": {
    "execution": {
     "iopub.execute_input": "2022-12-08T01:35:38.153525Z",
     "iopub.status.busy": "2022-12-08T01:35:38.152971Z",
     "iopub.status.idle": "2022-12-08T01:35:38.166789Z",
     "shell.execute_reply": "2022-12-08T01:35:38.165762Z"
    },
    "papermill": {
     "duration": 0.027658,
     "end_time": "2022-12-08T01:35:38.169327",
     "exception": false,
     "start_time": "2022-12-08T01:35:38.141669",
     "status": "completed"
    },
    "tags": []
   },
   "outputs": [],
   "source": [
    "lemmatizer = WordNetLemmatizer()\n",
    "\n",
    "def remove_stop_words(tokens):\n",
    "    no_stop = []\n",
    "    for token in tokens:\n",
    "        if token not in stopwords.words('english'):\n",
    "            no_stop.append(token)\n",
    "    return no_stop\n",
    "\n",
    "def lemmatize(tokens):\n",
    "    lemmatized = []\n",
    "    for token in tokens:\n",
    "        lemmatized.append(lemmatizer.lemmatize(token))\n",
    "    return \" \".join(lemmatized)\n",
    "\n",
    "def data_clean(data):\n",
    "    print(\"Total no. of rows in data:\", len(data))\n",
    "    print(\"Total no. of NaNs in 'clean_title' column:\", data['clean_title'].isnull().sum())\n",
    "    \n",
    "    data = data[data['clean_title'].notna()]\n",
    "    data = data[data.image_url.notna()]\n",
    "    print(\"Total no. of rows in data after removing NaNs:\", len(data))\n",
    "    \n",
    "    data.drop(['Unnamed: 0', 'Unnamed: 0.1', 'Unnamed: 0.1.1', \n",
    "               'Unnamed: 0.1.1.1', 'author', 'created_utc', 'domain', \n",
    "               'id', 'linked_submission_id', 'num_comments', 'score', \n",
    "               'subreddit', 'title', 'upvote_ratio'], axis=1, inplace=True, errors='ignore')\n",
    "    \n",
    "    print(\"Count of true and false titles:\", data['2_way_label'].value_counts())\n",
    "    print(\"Ratio of true and false titles:\", data['2_way_label'].value_counts(normalize=True))\n",
    "    \n",
    "    data['word_count'] = data['clean_title'].str.split().str.len()\n",
    "    print(\"Average count of words in true and false titles:\", data.groupby('2_way_label')['word_count'].mean())\n",
    "    \n",
    "    tokenized_messages = data['clean_title'].str.lower().apply(word_tokenize)\n",
    "    tokenized_messages = tokenized_messages.apply(remove_stop_words)\n",
    "    tokenized_messages = tokenized_messages.apply(lemmatize)\n",
    "    \n",
    "    data['clean_title'] = tokenized_messages\n",
    "    return data"
   ]
  },
  {
   "cell_type": "code",
   "execution_count": 5,
   "id": "373d3d9c",
   "metadata": {
    "execution": {
     "iopub.execute_input": "2022-12-08T01:35:38.190574Z",
     "iopub.status.busy": "2022-12-08T01:35:38.189553Z",
     "iopub.status.idle": "2022-12-08T01:35:40.951542Z",
     "shell.execute_reply": "2022-12-08T01:35:40.950391Z"
    },
    "papermill": {
     "duration": 2.776256,
     "end_time": "2022-12-08T01:35:40.954918",
     "exception": false,
     "start_time": "2022-12-08T01:35:38.178662",
     "status": "completed"
    },
    "tags": []
   },
   "outputs": [
    {
     "name": "stdout",
     "output_type": "stream",
     "text": [
      "Total no. of rows in data: 500\n",
      "Total no. of NaNs in 'clean_title' column: 0\n",
      "Total no. of rows in data after removing NaNs: 499\n",
      "Count of true and false titles: 0    290\n",
      "1    209\n",
      "Name: 2_way_label, dtype: int64\n",
      "Ratio of true and false titles: 0    0.581162\n",
      "1    0.418838\n",
      "Name: 2_way_label, dtype: float64\n",
      "Average count of words in true and false titles: 2_way_label\n",
      "0    5.875862\n",
      "1    9.483254\n",
      "Name: word_count, dtype: float64\n",
      "Total no. of rows in data: 50\n",
      "Total no. of NaNs in 'clean_title' column: 0\n",
      "Total no. of rows in data after removing NaNs: 50\n",
      "Count of true and false titles: 0    29\n",
      "1    21\n",
      "Name: 2_way_label, dtype: int64\n",
      "Ratio of true and false titles: 0    0.58\n",
      "1    0.42\n",
      "Name: 2_way_label, dtype: float64\n",
      "Average count of words in true and false titles: 2_way_label\n",
      "0     6.137931\n",
      "1    11.476190\n",
      "Name: word_count, dtype: float64\n"
     ]
    }
   ],
   "source": [
    "train = data_clean(train)\n",
    "val = data_clean(val)"
   ]
  },
  {
   "cell_type": "markdown",
   "id": "57791133",
   "metadata": {
    "papermill": {
     "duration": 0.009406,
     "end_time": "2022-12-08T01:35:40.974123",
     "exception": false,
     "start_time": "2022-12-08T01:35:40.964717",
     "status": "completed"
    },
    "tags": []
   },
   "source": [
    "# Text Processing with Bert"
   ]
  },
  {
   "cell_type": "code",
   "execution_count": 6,
   "id": "edfbb6b3",
   "metadata": {
    "execution": {
     "iopub.execute_input": "2022-12-08T01:35:40.995926Z",
     "iopub.status.busy": "2022-12-08T01:35:40.994879Z",
     "iopub.status.idle": "2022-12-08T01:35:46.481103Z",
     "shell.execute_reply": "2022-12-08T01:35:46.480007Z"
    },
    "papermill": {
     "duration": 5.500157,
     "end_time": "2022-12-08T01:35:46.483911",
     "exception": false,
     "start_time": "2022-12-08T01:35:40.983754",
     "status": "completed"
    },
    "tags": []
   },
   "outputs": [],
   "source": [
    "import os\n",
    "import shutil\n",
    "\n",
    "import tensorflow as tf\n",
    "import tensorflow_hub as hub\n",
    "import tensorflow_text as text\n",
    "\n",
    "import matplotlib.pyplot as plt\n",
    "\n",
    "tf.get_logger().setLevel('ERROR')"
   ]
  },
  {
   "cell_type": "code",
   "execution_count": 7,
   "id": "0b37d19f",
   "metadata": {
    "execution": {
     "iopub.execute_input": "2022-12-08T01:35:46.506201Z",
     "iopub.status.busy": "2022-12-08T01:35:46.505153Z",
     "iopub.status.idle": "2022-12-08T01:35:46.521881Z",
     "shell.execute_reply": "2022-12-08T01:35:46.520642Z"
    },
    "papermill": {
     "duration": 0.031154,
     "end_time": "2022-12-08T01:35:46.524760",
     "exception": false,
     "start_time": "2022-12-08T01:35:46.493606",
     "status": "completed"
    },
    "tags": []
   },
   "outputs": [
    {
     "name": "stdout",
     "output_type": "stream",
     "text": [
      "BERT model selected           : https://tfhub.dev/tensorflow/bert_en_uncased_L-12_H-768_A-12/3\n",
      "Preprocess model auto-selected: https://tfhub.dev/tensorflow/bert_en_uncased_preprocess/3\n"
     ]
    }
   ],
   "source": [
    "bert_model_name = 'bert_en_uncased_L-12_H-768_A-12' \n",
    "\n",
    "map_name_to_handle = {\n",
    "    'bert_en_uncased_L-12_H-768_A-12':\n",
    "        'https://tfhub.dev/tensorflow/bert_en_uncased_L-12_H-768_A-12/3',\n",
    "    'bert_en_cased_L-12_H-768_A-12':\n",
    "        'https://tfhub.dev/tensorflow/bert_en_cased_L-12_H-768_A-12/3',\n",
    "    'bert_multi_cased_L-12_H-768_A-12':\n",
    "        'https://tfhub.dev/tensorflow/bert_multi_cased_L-12_H-768_A-12/3',\n",
    "    'small_bert/bert_en_uncased_L-2_H-128_A-2':\n",
    "        'https://tfhub.dev/tensorflow/small_bert/bert_en_uncased_L-2_H-128_A-2/1',\n",
    "    'small_bert/bert_en_uncased_L-2_H-256_A-4':\n",
    "        'https://tfhub.dev/tensorflow/small_bert/bert_en_uncased_L-2_H-256_A-4/1',\n",
    "    'small_bert/bert_en_uncased_L-2_H-512_A-8':\n",
    "        'https://tfhub.dev/tensorflow/small_bert/bert_en_uncased_L-2_H-512_A-8/1',\n",
    "    'small_bert/bert_en_uncased_L-2_H-768_A-12':\n",
    "        'https://tfhub.dev/tensorflow/small_bert/bert_en_uncased_L-2_H-768_A-12/1',\n",
    "    'small_bert/bert_en_uncased_L-4_H-128_A-2':\n",
    "        'https://tfhub.dev/tensorflow/small_bert/bert_en_uncased_L-4_H-128_A-2/1',\n",
    "    'small_bert/bert_en_uncased_L-4_H-256_A-4':\n",
    "        'https://tfhub.dev/tensorflow/small_bert/bert_en_uncased_L-4_H-256_A-4/1',\n",
    "    'small_bert/bert_en_uncased_L-4_H-512_A-8':\n",
    "        'https://tfhub.dev/tensorflow/small_bert/bert_en_uncased_L-4_H-512_A-8/1',\n",
    "    'small_bert/bert_en_uncased_L-4_H-768_A-12':\n",
    "        'https://tfhub.dev/tensorflow/small_bert/bert_en_uncased_L-4_H-768_A-12/1',\n",
    "    'small_bert/bert_en_uncased_L-6_H-128_A-2':\n",
    "        'https://tfhub.dev/tensorflow/small_bert/bert_en_uncased_L-6_H-128_A-2/1',\n",
    "    'small_bert/bert_en_uncased_L-6_H-256_A-4':\n",
    "        'https://tfhub.dev/tensorflow/small_bert/bert_en_uncased_L-6_H-256_A-4/1',\n",
    "    'small_bert/bert_en_uncased_L-6_H-512_A-8':\n",
    "        'https://tfhub.dev/tensorflow/small_bert/bert_en_uncased_L-6_H-512_A-8/1',\n",
    "    'small_bert/bert_en_uncased_L-6_H-768_A-12':\n",
    "        'https://tfhub.dev/tensorflow/small_bert/bert_en_uncased_L-6_H-768_A-12/1',\n",
    "    'small_bert/bert_en_uncased_L-8_H-128_A-2':\n",
    "        'https://tfhub.dev/tensorflow/small_bert/bert_en_uncased_L-8_H-128_A-2/1',\n",
    "    'small_bert/bert_en_uncased_L-8_H-256_A-4':\n",
    "        'https://tfhub.dev/tensorflow/small_bert/bert_en_uncased_L-8_H-256_A-4/1',\n",
    "    'small_bert/bert_en_uncased_L-8_H-512_A-8':\n",
    "        'https://tfhub.dev/tensorflow/small_bert/bert_en_uncased_L-8_H-512_A-8/1',\n",
    "    'small_bert/bert_en_uncased_L-8_H-768_A-12':\n",
    "        'https://tfhub.dev/tensorflow/small_bert/bert_en_uncased_L-8_H-768_A-12/1',\n",
    "    'small_bert/bert_en_uncased_L-10_H-128_A-2':\n",
    "        'https://tfhub.dev/tensorflow/small_bert/bert_en_uncased_L-10_H-128_A-2/1',\n",
    "    'small_bert/bert_en_uncased_L-10_H-256_A-4':\n",
    "        'https://tfhub.dev/tensorflow/small_bert/bert_en_uncased_L-10_H-256_A-4/1',\n",
    "    'small_bert/bert_en_uncased_L-10_H-512_A-8':\n",
    "        'https://tfhub.dev/tensorflow/small_bert/bert_en_uncased_L-10_H-512_A-8/1',\n",
    "    'small_bert/bert_en_uncased_L-10_H-768_A-12':\n",
    "        'https://tfhub.dev/tensorflow/small_bert/bert_en_uncased_L-10_H-768_A-12/1',\n",
    "    'small_bert/bert_en_uncased_L-12_H-128_A-2':\n",
    "        'https://tfhub.dev/tensorflow/small_bert/bert_en_uncased_L-12_H-128_A-2/1',\n",
    "    'small_bert/bert_en_uncased_L-12_H-256_A-4':\n",
    "        'https://tfhub.dev/tensorflow/small_bert/bert_en_uncased_L-12_H-256_A-4/1',\n",
    "    'small_bert/bert_en_uncased_L-12_H-512_A-8':\n",
    "        'https://tfhub.dev/tensorflow/small_bert/bert_en_uncased_L-12_H-512_A-8/1',\n",
    "    'small_bert/bert_en_uncased_L-12_H-768_A-12':\n",
    "        'https://tfhub.dev/tensorflow/small_bert/bert_en_uncased_L-12_H-768_A-12/1',\n",
    "    'albert_en_base':\n",
    "        'https://tfhub.dev/tensorflow/albert_en_base/2',\n",
    "    'electra_small':\n",
    "        'https://tfhub.dev/google/electra_small/2',\n",
    "    'electra_base':\n",
    "        'https://tfhub.dev/google/electra_base/2',\n",
    "    'experts_pubmed':\n",
    "        'https://tfhub.dev/google/experts/bert/pubmed/2',\n",
    "    'experts_wiki_books':\n",
    "        'https://tfhub.dev/google/experts/bert/wiki_books/2',\n",
    "    'talking-heads_base':\n",
    "        'https://tfhub.dev/tensorflow/talkheads_ggelu_bert_en_base/1',\n",
    "}\n",
    "\n",
    "map_model_to_preprocess = {\n",
    "    'bert_en_uncased_L-12_H-768_A-12':\n",
    "        'https://tfhub.dev/tensorflow/bert_en_uncased_preprocess/3',\n",
    "    'bert_en_cased_L-12_H-768_A-12':\n",
    "        'https://tfhub.dev/tensorflow/bert_en_cased_preprocess/3',\n",
    "    'small_bert/bert_en_uncased_L-2_H-128_A-2':\n",
    "        'https://tfhub.dev/tensorflow/bert_en_uncased_preprocess/3',\n",
    "    'small_bert/bert_en_uncased_L-2_H-256_A-4':\n",
    "        'https://tfhub.dev/tensorflow/bert_en_uncased_preprocess/3',\n",
    "    'small_bert/bert_en_uncased_L-2_H-512_A-8':\n",
    "        'https://tfhub.dev/tensorflow/bert_en_uncased_preprocess/3',\n",
    "    'small_bert/bert_en_uncased_L-2_H-768_A-12':\n",
    "        'https://tfhub.dev/tensorflow/bert_en_uncased_preprocess/3',\n",
    "    'small_bert/bert_en_uncased_L-4_H-128_A-2':\n",
    "        'https://tfhub.dev/tensorflow/bert_en_uncased_preprocess/3',\n",
    "    'small_bert/bert_en_uncased_L-4_H-256_A-4':\n",
    "        'https://tfhub.dev/tensorflow/bert_en_uncased_preprocess/3',\n",
    "    'small_bert/bert_en_uncased_L-4_H-512_A-8':\n",
    "        'https://tfhub.dev/tensorflow/bert_en_uncased_preprocess/3',\n",
    "    'small_bert/bert_en_uncased_L-4_H-768_A-12':\n",
    "        'https://tfhub.dev/tensorflow/bert_en_uncased_preprocess/3',\n",
    "    'small_bert/bert_en_uncased_L-6_H-128_A-2':\n",
    "        'https://tfhub.dev/tensorflow/bert_en_uncased_preprocess/3',\n",
    "    'small_bert/bert_en_uncased_L-6_H-256_A-4':\n",
    "        'https://tfhub.dev/tensorflow/bert_en_uncased_preprocess/3',\n",
    "    'small_bert/bert_en_uncased_L-6_H-512_A-8':\n",
    "        'https://tfhub.dev/tensorflow/bert_en_uncased_preprocess/3',\n",
    "    'small_bert/bert_en_uncased_L-6_H-768_A-12':\n",
    "        'https://tfhub.dev/tensorflow/bert_en_uncased_preprocess/3',\n",
    "    'small_bert/bert_en_uncased_L-8_H-128_A-2':\n",
    "        'https://tfhub.dev/tensorflow/bert_en_uncased_preprocess/3',\n",
    "    'small_bert/bert_en_uncased_L-8_H-256_A-4':\n",
    "        'https://tfhub.dev/tensorflow/bert_en_uncased_preprocess/3',\n",
    "    'small_bert/bert_en_uncased_L-8_H-512_A-8':\n",
    "        'https://tfhub.dev/tensorflow/bert_en_uncased_preprocess/3',\n",
    "    'small_bert/bert_en_uncased_L-8_H-768_A-12':\n",
    "        'https://tfhub.dev/tensorflow/bert_en_uncased_preprocess/3',\n",
    "    'small_bert/bert_en_uncased_L-10_H-128_A-2':\n",
    "        'https://tfhub.dev/tensorflow/bert_en_uncased_preprocess/3',\n",
    "    'small_bert/bert_en_uncased_L-10_H-256_A-4':\n",
    "        'https://tfhub.dev/tensorflow/bert_en_uncased_preprocess/3',\n",
    "    'small_bert/bert_en_uncased_L-10_H-512_A-8':\n",
    "        'https://tfhub.dev/tensorflow/bert_en_uncased_preprocess/3',\n",
    "    'small_bert/bert_en_uncased_L-10_H-768_A-12':\n",
    "        'https://tfhub.dev/tensorflow/bert_en_uncased_preprocess/3',\n",
    "    'small_bert/bert_en_uncased_L-12_H-128_A-2':\n",
    "        'https://tfhub.dev/tensorflow/bert_en_uncased_preprocess/3',\n",
    "    'small_bert/bert_en_uncased_L-12_H-256_A-4':\n",
    "        'https://tfhub.dev/tensorflow/bert_en_uncased_preprocess/3',\n",
    "    'small_bert/bert_en_uncased_L-12_H-512_A-8':\n",
    "        'https://tfhub.dev/tensorflow/bert_en_uncased_preprocess/3',\n",
    "    'small_bert/bert_en_uncased_L-12_H-768_A-12':\n",
    "        'https://tfhub.dev/tensorflow/bert_en_uncased_preprocess/3',\n",
    "    'bert_multi_cased_L-12_H-768_A-12':\n",
    "        'https://tfhub.dev/tensorflow/bert_multi_cased_preprocess/3',\n",
    "    'albert_en_base':\n",
    "        'https://tfhub.dev/tensorflow/albert_en_preprocess/3',\n",
    "    'electra_small':\n",
    "        'https://tfhub.dev/tensorflow/bert_en_uncased_preprocess/3',\n",
    "    'electra_base':\n",
    "        'https://tfhub.dev/tensorflow/bert_en_uncased_preprocess/3',\n",
    "    'experts_pubmed':\n",
    "        'https://tfhub.dev/tensorflow/bert_en_uncased_preprocess/3',\n",
    "    'experts_wiki_books':\n",
    "        'https://tfhub.dev/tensorflow/bert_en_uncased_preprocess/3',\n",
    "    'talking-heads_base':\n",
    "        'https://tfhub.dev/tensorflow/bert_en_uncased_preprocess/3',\n",
    "}\n",
    "\n",
    "tfhub_handle_encoder = map_name_to_handle[bert_model_name]\n",
    "tfhub_handle_preprocess = map_model_to_preprocess[bert_model_name]\n",
    "\n",
    "print(f'BERT model selected           : {tfhub_handle_encoder}')\n",
    "print(f'Preprocess model auto-selected: {tfhub_handle_preprocess}')"
   ]
  },
  {
   "cell_type": "code",
   "execution_count": 8,
   "id": "b1e288c0",
   "metadata": {
    "execution": {
     "iopub.execute_input": "2022-12-08T01:35:46.545822Z",
     "iopub.status.busy": "2022-12-08T01:35:46.545420Z",
     "iopub.status.idle": "2022-12-08T01:35:49.054962Z",
     "shell.execute_reply": "2022-12-08T01:35:49.053663Z"
    },
    "papermill": {
     "duration": 2.523432,
     "end_time": "2022-12-08T01:35:49.057825",
     "exception": false,
     "start_time": "2022-12-08T01:35:46.534393",
     "status": "completed"
    },
    "tags": []
   },
   "outputs": [],
   "source": [
    "bert_preprocess_model = hub.KerasLayer(tfhub_handle_preprocess)"
   ]
  },
  {
   "cell_type": "code",
   "execution_count": 9,
   "id": "401a5351",
   "metadata": {
    "execution": {
     "iopub.execute_input": "2022-12-08T01:35:49.079692Z",
     "iopub.status.busy": "2022-12-08T01:35:49.079214Z",
     "iopub.status.idle": "2022-12-08T01:35:49.465285Z",
     "shell.execute_reply": "2022-12-08T01:35:49.463804Z"
    },
    "papermill": {
     "duration": 0.400133,
     "end_time": "2022-12-08T01:35:49.467913",
     "exception": false,
     "start_time": "2022-12-08T01:35:49.067780",
     "status": "completed"
    },
    "tags": []
   },
   "outputs": [
    {
     "name": "stdout",
     "output_type": "stream",
     "text": [
      "Keys       : ['input_type_ids', 'input_mask', 'input_word_ids']\n",
      "Shape      : (2, 128)\n",
      "Word Ids   : [ 101 2023 2003 2107 2019 6429 3185  999  102    0    0    0]\n",
      "Input Mask : [1 1 1 1 1 1 1 1 1 0 0 0]\n",
      "Type Ids   : [0 0 0 0 0 0 0 0 0 0 0 0]\n"
     ]
    }
   ],
   "source": [
    "text_test = ['this is such an amazing movie!', \"HELLO WORLD\"]\n",
    "text_preprocessed = bert_preprocess_model(text_test)\n",
    "\n",
    "print(f'Keys       : {list(text_preprocessed.keys())}')\n",
    "print(f'Shape      : {text_preprocessed[\"input_word_ids\"].shape}')\n",
    "print(f'Word Ids   : {text_preprocessed[\"input_word_ids\"][0, :12]}')\n",
    "print(f'Input Mask : {text_preprocessed[\"input_mask\"][0, :12]}')\n",
    "print(f'Type Ids   : {text_preprocessed[\"input_type_ids\"][0, :12]}')"
   ]
  },
  {
   "cell_type": "markdown",
   "id": "b4e67cb0",
   "metadata": {
    "papermill": {
     "duration": 0.009509,
     "end_time": "2022-12-08T01:35:49.487162",
     "exception": false,
     "start_time": "2022-12-08T01:35:49.477653",
     "status": "completed"
    },
    "tags": []
   },
   "source": [
    "# Image Processing with Resnet 50"
   ]
  },
  {
   "cell_type": "code",
   "execution_count": 10,
   "id": "7ea79357",
   "metadata": {
    "execution": {
     "iopub.execute_input": "2022-12-08T01:35:49.508561Z",
     "iopub.status.busy": "2022-12-08T01:35:49.507741Z",
     "iopub.status.idle": "2022-12-08T01:35:52.565443Z",
     "shell.execute_reply": "2022-12-08T01:35:52.564261Z"
    },
    "papermill": {
     "duration": 3.071899,
     "end_time": "2022-12-08T01:35:52.568566",
     "exception": false,
     "start_time": "2022-12-08T01:35:49.496667",
     "status": "completed"
    },
    "tags": []
   },
   "outputs": [
    {
     "name": "stdout",
     "output_type": "stream",
     "text": [
      "Downloading data from https://storage.googleapis.com/tensorflow/keras-applications/resnet/resnet50_weights_tf_dim_ordering_tf_kernels.h5\n",
      "102967424/102967424 [==============================] - 5s 0us/step\n"
     ]
    }
   ],
   "source": [
    "resnet = tf.keras.applications.resnet50.ResNet50()"
   ]
  },
  {
   "cell_type": "code",
   "execution_count": 11,
   "id": "78c4b787",
   "metadata": {
    "execution": {
     "iopub.execute_input": "2022-12-08T01:35:52.593976Z",
     "iopub.status.busy": "2022-12-08T01:35:52.593559Z",
     "iopub.status.idle": "2022-12-08T01:35:52.606353Z",
     "shell.execute_reply": "2022-12-08T01:35:52.605300Z"
    },
    "papermill": {
     "duration": 0.028435,
     "end_time": "2022-12-08T01:35:52.608897",
     "exception": false,
     "start_time": "2022-12-08T01:35:52.580462",
     "status": "completed"
    },
    "tags": []
   },
   "outputs": [],
   "source": [
    "import requests\n",
    "import concurrent.futures\n",
    "import threading\n",
    "\n",
    "from PIL import Image\n",
    "\n",
    "thread_local = threading.local()\n",
    "error_urls = []\n",
    "\n",
    "def get_session():\n",
    "    if not hasattr(thread_local, \"session\"):\n",
    "        thread_local.session = requests.Session()\n",
    "    return thread_local.session\n",
    "\n",
    "def extract_image(row):\n",
    "    print(f\"\\r{row[0]}\", end=\"\")\n",
    "    row = row[1]\n",
    "    session = get_session()\n",
    "    if row.get(\"hasImage\", False):\n",
    "        url = row.get(\"image_url\", \"\")\n",
    "        if url in [\"nan\", \"\"]:\n",
    "            return\n",
    "        try:\n",
    "            with session.get(url, stream=True) as response:\n",
    "                im = Image.open(response.raw)\n",
    "                im = im.resize((224,224))\n",
    "                img = np.asarray(im)\n",
    "                if(len(img.shape) != 3 or img.shape[-1] != 3):\n",
    "                    raise Exception(\"B/W image\")\n",
    "                img_features = tf.reshape(resnet(np.expand_dims(img,0)),(-1)).numpy()\n",
    "                text = row.get(\"clean_title\")\n",
    "                text_tokens = bert_preprocess_model([text])['input_word_ids'][0]\n",
    "                tokens = np.concatenate((text_tokens, img_features), axis=0)\n",
    "                label = row.get(\"2_way_label\")\n",
    "                return tokens, label\n",
    "        except Exception as e:\n",
    "            error_urls.append(url)\n",
    "            return\n",
    "    return"
   ]
  },
  {
   "cell_type": "code",
   "execution_count": 12,
   "id": "cca24a97",
   "metadata": {
    "execution": {
     "iopub.execute_input": "2022-12-08T01:35:52.633927Z",
     "iopub.status.busy": "2022-12-08T01:35:52.633310Z",
     "iopub.status.idle": "2022-12-08T01:37:44.944558Z",
     "shell.execute_reply": "2022-12-08T01:37:44.942897Z"
    },
    "papermill": {
     "duration": 112.327486,
     "end_time": "2022-12-08T01:37:44.948261",
     "exception": false,
     "start_time": "2022-12-08T01:35:52.620775",
     "status": "completed"
    },
    "tags": []
   },
   "outputs": [
    {
     "name": "stdout",
     "output_type": "stream",
     "text": [
      "Failed URLS: 27\n"
     ]
    }
   ],
   "source": [
    "import concurrent.futures\n",
    "error_urls = []\n",
    "with concurrent.futures.ThreadPoolExecutor(max_workers=10) as executor:\n",
    "    results = executor.map(extract_image, train.iterrows())\n",
    "print(f\"\\rFailed URLS: {len(error_urls)}\")\n",
    "df = pd.DataFrame(results, columns=[\"features\", \"labels\"]).dropna()\n",
    "train_ds = tf.data.Dataset.from_tensor_slices((df['features'].to_list(), df['labels']))"
   ]
  },
  {
   "cell_type": "code",
   "execution_count": 13,
   "id": "46e73dc1",
   "metadata": {
    "execution": {
     "iopub.execute_input": "2022-12-08T01:37:45.014384Z",
     "iopub.status.busy": "2022-12-08T01:37:45.013635Z",
     "iopub.status.idle": "2022-12-08T01:37:57.273426Z",
     "shell.execute_reply": "2022-12-08T01:37:57.272011Z"
    },
    "papermill": {
     "duration": 12.295505,
     "end_time": "2022-12-08T01:37:57.275950",
     "exception": false,
     "start_time": "2022-12-08T01:37:44.980445",
     "status": "completed"
    },
    "tags": []
   },
   "outputs": [
    {
     "name": "stdout",
     "output_type": "stream",
     "text": [
      "Failed URLS: 2\n"
     ]
    }
   ],
   "source": [
    "error_urls = []\n",
    "with concurrent.futures.ThreadPoolExecutor(max_workers=10) as executor:\n",
    "    results = executor.map(extract_image, val.iterrows())\n",
    "print(f\"\\rFailed URLS: {len(error_urls)}\")\n",
    "df = pd.DataFrame(results, columns=[\"features\", \"labels\"]).dropna()\n",
    "val_ds = tf.data.Dataset.from_tensor_slices((df['features'].to_list(), df['labels']))"
   ]
  },
  {
   "cell_type": "code",
   "execution_count": 16,
   "id": "25103512",
   "metadata": {
    "execution": {
     "iopub.execute_input": "2022-12-08T01:38:08.757785Z",
     "iopub.status.busy": "2022-12-08T01:38:08.756998Z",
     "iopub.status.idle": "2022-12-08T01:38:08.768249Z",
     "shell.execute_reply": "2022-12-08T01:38:08.767109Z"
    },
    "papermill": {
     "duration": 0.045868,
     "end_time": "2022-12-08T01:38:08.770950",
     "exception": false,
     "start_time": "2022-12-08T01:38:08.725082",
     "status": "completed"
    },
    "tags": []
   },
   "outputs": [],
   "source": [
    "train_ds = train_ds.shuffle(TRAIN_SIZE).batch(32)\n",
    "val_ds = val_ds.shuffle(VAL_SIZE).batch(32)"
   ]
  },
  {
   "cell_type": "code",
   "execution_count": 17,
   "id": "cf61042f",
   "metadata": {
    "execution": {
     "iopub.execute_input": "2022-12-08T01:38:08.833397Z",
     "iopub.status.busy": "2022-12-08T01:38:08.832914Z",
     "iopub.status.idle": "2022-12-08T01:38:08.849120Z",
     "shell.execute_reply": "2022-12-08T01:38:08.847908Z"
    },
    "papermill": {
     "duration": 0.05069,
     "end_time": "2022-12-08T01:38:08.852072",
     "exception": false,
     "start_time": "2022-12-08T01:38:08.801382",
     "status": "completed"
    },
    "tags": []
   },
   "outputs": [],
   "source": [
    "import tensorflow as tf\n",
    "class MultiModal(tf.keras.Model):\n",
    "    \n",
    "    def __init__(self, combine_alg=\"max\"):\n",
    "        super().__init__()\n",
    "        self.dropout = tf.keras.layers.Dropout(0.5)\n",
    "        self.dense_text = tf.keras.layers.Dense(128)\n",
    "        self.dense_img = tf.keras.layers.Dense(128)\n",
    "        self.init_mm_dense()\n",
    "        self.combine_alg = combine_alg\n",
    "    \n",
    "    def init_mm_dense(self):\n",
    "        self.mm_dense_1 = tf.keras.layers.Dense(512, activation=\"relu\")\n",
    "        self.mm_dense_2 = tf.keras.layers.Dense(256, activation=\"relu\")\n",
    "        self.mm_dense_3 = tf.keras.layers.Dense(64, activation=\"relu\")\n",
    "        self.out = tf.keras.layers.Dense(1, activation=\"sigmoid\")\n",
    "\n",
    "    def mm_dense(self, inputs, training=False):\n",
    "        out1 = self.mm_dense_1(inputs)\n",
    "        if training:\n",
    "            out1 = self.dropout(out1)\n",
    "        out2 = self.mm_dense_2(out1)\n",
    "        if training:\n",
    "            out2 = self.dropout(out2)\n",
    "        out3 = self.mm_dense_3(out2)\n",
    "        if training:\n",
    "            out3 = self.dropout(out3)\n",
    "        outputs = self.out(out3)\n",
    "        return outputs\n",
    "    \n",
    "    def combine(self, t1, t2):\n",
    "        if self.combine_alg == \"max\":\n",
    "            return tf.math.maximum(t1, t2)\n",
    "        elif self.combine_alg == \"sum\":\n",
    "            return tf.math.add(t1, t2)\n",
    "        else:\n",
    "            return tf.math.add(t1, t2)/2\n",
    "    \n",
    "    def call(self, inputs, training=False):\n",
    "        text_tokens = inputs[:,:128]\n",
    "        img_tokens = inputs[:,128:]\n",
    "        text_features = self.dense_text(text_tokens)\n",
    "        img_features = self.dense_img(img_tokens)\n",
    "        features = self.combine(text_features, img_features)\n",
    "        outputs = self.mm_dense(features)\n",
    "        return outputs        \n",
    "    "
   ]
  },
  {
   "cell_type": "code",
   "execution_count": 18,
   "id": "290ae21c",
   "metadata": {
    "execution": {
     "iopub.execute_input": "2022-12-08T01:38:08.913985Z",
     "iopub.status.busy": "2022-12-08T01:38:08.913302Z",
     "iopub.status.idle": "2022-12-08T01:38:08.949234Z",
     "shell.execute_reply": "2022-12-08T01:38:08.948238Z"
    },
    "papermill": {
     "duration": 0.070201,
     "end_time": "2022-12-08T01:38:08.952114",
     "exception": false,
     "start_time": "2022-12-08T01:38:08.881913",
     "status": "completed"
    },
    "tags": []
   },
   "outputs": [],
   "source": [
    "model = MultiModal() \n",
    "\n",
    "callbacks = [tf.keras.callbacks.EarlyStopping(\n",
    "    monitor='val_loss',\n",
    "    min_delta=1e-5,\n",
    "    patience=2,\n",
    "    mode='auto',\n",
    "    restore_best_weights=True\n",
    ")]\n",
    "model.compile(\n",
    "    optimizer=\"adam\", \n",
    "    loss=tf.keras.losses.BinaryCrossentropy(), \n",
    "    metrics=[tf.keras.metrics.BinaryAccuracy()]\n",
    ")"
   ]
  },
  {
   "cell_type": "code",
   "execution_count": 19,
   "id": "96ebcfb0",
   "metadata": {
    "execution": {
     "iopub.execute_input": "2022-12-08T01:38:09.013814Z",
     "iopub.status.busy": "2022-12-08T01:38:09.012926Z",
     "iopub.status.idle": "2022-12-08T01:38:11.336520Z",
     "shell.execute_reply": "2022-12-08T01:38:11.334929Z"
    },
    "papermill": {
     "duration": 2.357027,
     "end_time": "2022-12-08T01:38:11.339016",
     "exception": false,
     "start_time": "2022-12-08T01:38:08.981989",
     "status": "completed"
    },
    "tags": []
   },
   "outputs": [
    {
     "name": "stdout",
     "output_type": "stream",
     "text": [
      "Epoch 1/100\n",
      "15/15 [==============================] - 1s 23ms/step - loss: 119.2390 - binary_accuracy: 0.5826 - val_loss: 45.1457 - val_binary_accuracy: 0.6667\n",
      "Epoch 2/100\n",
      "15/15 [==============================] - 0s 11ms/step - loss: 40.3349 - binary_accuracy: 0.6335 - val_loss: 40.4881 - val_binary_accuracy: 0.5833\n",
      "Epoch 3/100\n",
      "15/15 [==============================] - 0s 13ms/step - loss: 20.2442 - binary_accuracy: 0.6081 - val_loss: 15.0822 - val_binary_accuracy: 0.6458\n",
      "Epoch 4/100\n",
      "15/15 [==============================] - 0s 14ms/step - loss: 9.4889 - binary_accuracy: 0.6928 - val_loss: 13.0949 - val_binary_accuracy: 0.6042\n",
      "Epoch 5/100\n",
      "15/15 [==============================] - 0s 13ms/step - loss: 4.7804 - binary_accuracy: 0.6695 - val_loss: 11.5456 - val_binary_accuracy: 0.6250\n",
      "Epoch 6/100\n",
      "15/15 [==============================] - 0s 13ms/step - loss: 2.3317 - binary_accuracy: 0.6631 - val_loss: 1.0216 - val_binary_accuracy: 0.7083\n",
      "Epoch 7/100\n",
      "15/15 [==============================] - 0s 13ms/step - loss: 0.8452 - binary_accuracy: 0.6102 - val_loss: 1.2231 - val_binary_accuracy: 0.6667\n",
      "Epoch 8/100\n",
      "15/15 [==============================] - 0s 13ms/step - loss: 0.7412 - binary_accuracy: 0.6377 - val_loss: 0.5690 - val_binary_accuracy: 0.6458\n",
      "Epoch 9/100\n",
      "15/15 [==============================] - 0s 13ms/step - loss: 0.6194 - binary_accuracy: 0.6208 - val_loss: 0.5393 - val_binary_accuracy: 0.6875\n",
      "Epoch 10/100\n",
      "15/15 [==============================] - 0s 13ms/step - loss: 0.5731 - binary_accuracy: 0.6398 - val_loss: 0.5335 - val_binary_accuracy: 0.6667\n",
      "Epoch 11/100\n",
      "15/15 [==============================] - 0s 15ms/step - loss: 0.5748 - binary_accuracy: 0.6377 - val_loss: 0.5226 - val_binary_accuracy: 0.6667\n",
      "Epoch 12/100\n",
      "15/15 [==============================] - 0s 16ms/step - loss: 0.5871 - binary_accuracy: 0.6419 - val_loss: 0.8379 - val_binary_accuracy: 0.6667\n",
      "Epoch 13/100\n",
      "15/15 [==============================] - 0s 17ms/step - loss: 0.6124 - binary_accuracy: 0.6377 - val_loss: 0.5352 - val_binary_accuracy: 0.6458\n"
     ]
    },
    {
     "data": {
      "text/plain": [
       "<keras.callbacks.History at 0x1e40bac0400>"
      ]
     },
     "execution_count": 19,
     "metadata": {},
     "output_type": "execute_result"
    }
   ],
   "source": [
    "model.fit(train_ds, epochs=100, validation_data=val_ds, callbacks=callbacks)"
   ]
  },
  {
   "cell_type": "code",
   "execution_count": 20,
   "id": "6b6061d2",
   "metadata": {
    "execution": {
     "iopub.execute_input": "2022-12-08T01:38:11.406641Z",
     "iopub.status.busy": "2022-12-08T01:38:11.405484Z",
     "iopub.status.idle": "2022-12-08T01:38:11.439475Z",
     "shell.execute_reply": "2022-12-08T01:38:11.437962Z"
    },
    "papermill": {
     "duration": 0.070967,
     "end_time": "2022-12-08T01:38:11.442265",
     "exception": false,
     "start_time": "2022-12-08T01:38:11.371298",
     "status": "completed"
    },
    "tags": []
   },
   "outputs": [
    {
     "name": "stdout",
     "output_type": "stream",
     "text": [
      "2/2 [==============================] - 0s 6ms/step - loss: 0.5226 - binary_accuracy: 0.6667\n"
     ]
    },
    {
     "data": {
      "text/plain": [
       "[0.5226325988769531, 0.6666666865348816]"
      ]
     },
     "execution_count": 20,
     "metadata": {},
     "output_type": "execute_result"
    }
   ],
   "source": [
    "model.evaluate(val_ds)"
   ]
  },
  {
   "cell_type": "code",
   "execution_count": null,
   "id": "02dc3094",
   "metadata": {},
   "outputs": [],
   "source": []
  }
 ],
 "metadata": {
  "kernelspec": {
   "display_name": "Python 3 (ipykernel)",
   "language": "python",
   "name": "python3"
  },
  "language_info": {
   "codemirror_mode": {
    "name": "ipython",
    "version": 3
   },
   "file_extension": ".py",
   "mimetype": "text/x-python",
   "name": "python",
   "nbconvert_exporter": "python",
   "pygments_lexer": "ipython3",
   "version": "3.9.12"
  },
  "papermill": {
   "default_parameters": {},
   "duration": 227.396164,
   "end_time": "2022-12-08T01:38:14.198132",
   "environment_variables": {},
   "exception": null,
   "input_path": "__notebook__.ipynb",
   "output_path": "__notebook__.ipynb",
   "parameters": {},
   "start_time": "2022-12-08T01:34:26.801968",
   "version": "2.3.4"
  }
 },
 "nbformat": 4,
 "nbformat_minor": 5
}
